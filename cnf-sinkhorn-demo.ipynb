{
 "cells": [
  {
   "cell_type": "code",
   "execution_count": 1,
   "metadata": {},
   "outputs": [],
   "source": [
    "import math\n",
    "import numpy as np\n",
    "from IPython.display import clear_output\n",
    "import pdb\n",
    "import time\n",
    "import matplotlib.pyplot as plt\n",
    "import torch\n",
    "from torch import Tensor\n",
    "from torch import nn\n",
    "from torch.nn  import functional as F \n",
    "from torch.autograd import Variable\n",
    "from torchdiffeq import odeint_adjoint as odeint\n",
    "from torch.distributions import MultivariateNormal\n",
    "use_cuda = torch.cuda.is_available()\n",
    "from geomloss import SamplesLoss\n",
    "device = torch.device('cuda' if torch.cuda.is_available() else 'cpu')\n",
    "import gc\n",
    "import importlib\n",
    "import Utils\n",
    "importlib.reload(Utils)\n",
    "from Utils import InputMapping, BoundingBox, ImageDataset, SaveTrajectory\n",
    "from Utils import SaveTrajectory as st\n",
    "import ODEModel\n",
    "importlib.reload(ODEModel)\n",
    "from ODEModel import ODEfunc, Siren\n",
    "from ODEModel import FfjordModel\n",
    "import LearnTraj\n",
    "importlib.reload(LearnTraj);\n",
    "from LearnTraj import learn_trajectory\n",
    "import os;\n",
    "import cv2 as cv;"
   ]
  },
  {
   "cell_type": "code",
   "execution_count": null,
   "metadata": {},
   "outputs": [
    {
     "data": {
      "image/png": "[encoded data removed]",
      "text/plain": [
       "<Figure size 432x288 with 1 Axes>"
      ]
     },
     "metadata": {
      "needs_background": "light"
     },
     "output_type": "display_data"
    },
    {
     "name": "stdout",
     "output_type": "stream",
     "text": [
      "> \u001b[1;32md:\\documents\\wassflow\\utils.py\u001b[0m(73)\u001b[0;36m__init__\u001b[1;34m()\u001b[0m\n",
      "\u001b[1;32m     71 \u001b[1;33m\u001b[1;31m#         np.convolve(img,xgrad.numpy())\u001b[0m\u001b[1;33m\u001b[0m\u001b[1;33m\u001b[0m\u001b[1;33m\u001b[0m\u001b[0m\n",
      "\u001b[0m\u001b[1;32m     72 \u001b[1;33m        \u001b[0mpdb\u001b[0m\u001b[1;33m.\u001b[0m\u001b[0mset_trace\u001b[0m\u001b[1;33m(\u001b[0m\u001b[1;33m)\u001b[0m\u001b[1;33m\u001b[0m\u001b[1;33m\u001b[0m\u001b[0m\n",
      "\u001b[0m\u001b[1;32m---> 73 \u001b[1;33m        \u001b[0medges\u001b[0m \u001b[1;33m=\u001b[0m \u001b[0mcv\u001b[0m\u001b[1;33m.\u001b[0m\u001b[0mCanny\u001b[0m\u001b[1;33m(\u001b[0m\u001b[0mimg\u001b[0m\u001b[1;33m,\u001b[0m\u001b[1;36m0\u001b[0m\u001b[1;33m,\u001b[0m\u001b[1;36m0\u001b[0m\u001b[1;33m)\u001b[0m\u001b[1;33m\u001b[0m\u001b[1;33m\u001b[0m\u001b[0m\n",
      "\u001b[0m\u001b[1;32m     74 \u001b[1;33m\u001b[1;31m#         edges = K.filters.canny(I2)[0]\u001b[0m\u001b[1;33m\u001b[0m\u001b[1;33m\u001b[0m\u001b[1;33m\u001b[0m\u001b[0m\n",
      "\u001b[0m\u001b[1;32m     75 \u001b[1;33m\u001b[1;31m#         edges[edges>0]=1;\u001b[0m\u001b[1;33m\u001b[0m\u001b[1;33m\u001b[0m\u001b[1;33m\u001b[0m\u001b[0m\n",
      "\u001b[0m\n"
     ]
    },
    {
     "name": "stdin",
     "output_type": "stream",
     "text": [
      "ipdb>  img.shape\n"
     ]
    },
    {
     "name": "stdout",
     "output_type": "stream",
     "text": [
      "(614, 884)\n"
     ]
    },
    {
     "name": "stdin",
     "output_type": "stream",
     "text": [
      "ipdb>  edges = cv.Canny(img,0,0)\n"
     ]
    },
    {
     "name": "stdout",
     "output_type": "stream",
     "text": [
      "*** cv2.error: OpenCV(4.5.4) D:\\a\\opencv-python\\opencv-python\\opencv\\modules\\imgproc\\src\\canny.cpp:829: error: (-215:Assertion failed) _src.depth() == CV_8U in function 'cv::Canny'\n"
     ]
    },
    {
     "name": "stdin",
     "output_type": "stream",
     "text": [
      "ipdb>  img.shape\n"
     ]
    },
    {
     "name": "stdout",
     "output_type": "stream",
     "text": [
      "(614, 884)\n"
     ]
    },
    {
     "name": "stdin",
     "output_type": "stream",
     "text": [
      "ipdb>  torch.tensor(img).repeat(2,3).shape\n"
     ]
    },
    {
     "name": "stdout",
     "output_type": "stream",
     "text": [
      "torch.Size([1228, 2652])\n"
     ]
    },
    {
     "name": "stdin",
     "output_type": "stream",
     "text": [
      "ipdb>  torch.tensor(img).repeat(1,1,3).shape\n"
     ]
    },
    {
     "name": "stdout",
     "output_type": "stream",
     "text": [
      "torch.Size([1, 614, 2652])\n"
     ]
    },
    {
     "name": "stdin",
     "output_type": "stream",
     "text": [
      "ipdb>  torch.tensor(img).repeat(1,1,1,3).shape\n"
     ]
    },
    {
     "name": "stdout",
     "output_type": "stream",
     "text": [
      "torch.Size([1, 1, 614, 2652])\n"
     ]
    },
    {
     "name": "stdin",
     "output_type": "stream",
     "text": [
      "ipdb>  torch.tensor(img).repeat(1,3).shape\n"
     ]
    },
    {
     "name": "stdout",
     "output_type": "stream",
     "text": [
      "torch.Size([614, 2652])\n"
     ]
    },
    {
     "name": "stdin",
     "output_type": "stream",
     "text": [
      "ipdb>  torch.tensor(img).repeat(1,3,1).shape\n"
     ]
    },
    {
     "name": "stdout",
     "output_type": "stream",
     "text": [
      "torch.Size([1, 1842, 884])\n"
     ]
    },
    {
     "name": "stdin",
     "output_type": "stream",
     "text": [
      "ipdb>  torch.tensor(img).tile((1,1,3)).shape\n"
     ]
    },
    {
     "name": "stdout",
     "output_type": "stream",
     "text": [
      "torch.Size([1, 614, 2652])\n"
     ]
    },
    {
     "name": "stdin",
     "output_type": "stream",
     "text": [
      "ipdb>  torch.tensor(img).tile((3,1,1)).shape\n"
     ]
    },
    {
     "name": "stdout",
     "output_type": "stream",
     "text": [
      "torch.Size([3, 614, 884])\n"
     ]
    },
    {
     "name": "stdin",
     "output_type": "stream",
     "text": [
      "ipdb>  torch.permute(torch.tensor(img).tile((3,1,1)),(1,2,0)).shape\n"
     ]
    },
    {
     "name": "stdout",
     "output_type": "stream",
     "text": [
      "torch.Size([614, 884, 3])\n"
     ]
    },
    {
     "name": "stdin",
     "output_type": "stream",
     "text": [
      "ipdb>  cv.Canny(torch.permute(torch.tensor(img).tile((3,1,1)),(1,2,0)),0,0)\n"
     ]
    },
    {
     "name": "stdout",
     "output_type": "stream",
     "text": [
      "*** cv2.error: OpenCV(4.5.4) :-1: error: (-5:Bad argument) in function 'Canny'\n",
      "> Overload resolution failed:\n",
      ">  - image is not a numpy array, neither a scalar\n",
      ">  - Expected Ptr<cv::UMat> for argument 'image'\n",
      ">  - Canny() missing required argument 'threshold2' (pos 4)\n",
      ">  - Canny() missing required argument 'threshold2' (pos 4)\n"
     ]
    },
    {
     "name": "stdin",
     "output_type": "stream",
     "text": [
      "ipdb>  cv.Canny(torch.permute(torch.tensor(img).tile((3,1,1)),(1,2,0)).numpy(),0,0)\n"
     ]
    },
    {
     "name": "stdout",
     "output_type": "stream",
     "text": [
      "*** cv2.error: OpenCV(4.5.4) D:\\a\\opencv-python\\opencv-python\\opencv\\modules\\imgproc\\src\\canny.cpp:829: error: (-215:Assertion failed) _src.depth() == CV_8U in function 'cv::Canny'\n"
     ]
    },
    {
     "name": "stdin",
     "output_type": "stream",
     "text": [
      "ipdb>  torch.permute(torch.tensor(img).tile((3,1,1)),(1,2,0)).numpy().shape\n"
     ]
    },
    {
     "name": "stdout",
     "output_type": "stream",
     "text": [
      "(614, 884, 3)\n"
     ]
    }
   ],
   "source": [
    "device = torch.device('cuda' if torch.cuda.is_available() else 'cpu')\n",
    "caterpillar,im = ImageDataset.import_img('caterpillar.png'); caterpillar=1-caterpillar; caterpillar/=caterpillar.max();\n",
    "butterfly,im = ImageDataset.import_img('butterfly.jpg'); butterfly=255-butterfly; butterfly/=butterfly.max();\n",
    "circle,im = ImageDataset.import_img('circle.jpeg'); circle=255-circle; circle/=circle.max();\n",
    "baldhead,im = ImageDataset.import_img('baldhead.jpeg'); baldhead=255-baldhead; baldhead/=baldhead.max();\n",
    "square,im = ImageDataset.import_img('square.png', rgb_weights=[0.2989, 0.5870, 0.1140,0]); square=1-square; square/=square.max();\n",
    "cat1,im = ImageDataset.import_img('cat1.png', rgb_weights = [0.2989, 0.5870, 0.1140, 1]); cat1/=cat1.max();\n",
    "dset4 = ImageDataset(img=caterpillar*1,thresh=.8); \n",
    "# dset4 = ImageDataset(img=butterfly*1,thresh=.8)\n",
    "# dset4 = ImageDataset(img=circle*1,thresh=.8)\n",
    "# dset4 = ImageDataset(img=square*1,thresh=.8)\n",
    "# dset5 = ImageDataset(img=cat1*1,thresh=.8)\n",
    "# dset6 = ImageDataset(img=baldhead*1,thresh=.8)\n",
    "\n",
    "n = 100000; \n",
    "# dat1 = dset1.sample(n); \n",
    "# dat2 = dset2.sample(n); \n",
    "# dat3 = dset3.sample(n)*.7;\n",
    "# dat4 = dset4.sample(n);\n",
    "# dat5 = dset5.sample(n);\n",
    "# dat6 = dset6.sample(n);\n",
    "dat4sil = dset4.samplesil(n);\n",
    "# dat1*=-1; dat1[:,1]-=.1;\n",
    "# dat2*=-1; dat2[:,1]+=.5; \n",
    "# dat3[:,1]+=1.5;\n",
    "# dat5[:,1]*=-1;\n",
    "# dat6[:,1]*=-1; dat6[:,1]+=.8;\n",
    "\n",
    "# plt.scatter(dat1.detach().numpy()[:,0],dat1.detach().numpy()[:,1],s=10, alpha=0.5, linewidths=0,c='green') # butterfly\n",
    "# plt.scatter(dat2.detach().numpy()[:,0],dat2.detach().numpy()[:,1],s=10, alpha=0.5, linewidths=0,c='red') # caterpillar\n",
    "# plt.scatter(dat3.detach().numpy()[:,0],dat3.detach().numpy()[:,1],s=10, alpha=0.5, linewidths=0,c='magenta') # circle\n",
    "# plt.scatter(dat4.detach().numpy()[:,0],dat4.detach().numpy()[:,1],s=10, alpha=0.5, linewidths=0,c='orange') # square\n",
    "# plt.scatter(dat5.detach().numpy()[:,0],dat5.detach().numpy()[:,1],s=10, alpha=0.5, linewidths=0,c='yellow') # cat\n",
    "# plt.scatter(dat6.detach().numpy()[:,0],dat6.detach().numpy()[:,1],s=10, alpha=0.5, linewidths=0,c='yellow') # face\n",
    "# plt.scatter(dat4sil.detach().numpy()[:,0],dat4sil.detach().numpy()[:,1],s=10, alpha=0.5, linewidths=0,c='yellow') # squaresil\n",
    "# plt.axis('equal')\n",
    "# plt.show() "
   ]
  },
  {
   "cell_type": "code",
   "execution_count": 5,
   "metadata": {},
   "outputs": [
    {
     "name": "stdout",
     "output_type": "stream",
     "text": [
      "0 255\n",
      "0 255\n"
     ]
    },
    {
     "data": {
      "image/png": "[encoded data removed]",
      "text/plain": [
       "<Figure size 432x288 with 1 Axes>"
      ]
     },
     "metadata": {
      "needs_background": "light"
     },
     "output_type": "display_data"
    },
    {
     "data": {
      "image/png": "[encoded data removed]",
      "text/plain": [
       "<Figure size 432x288 with 1 Axes>"
      ]
     },
     "metadata": {
      "needs_background": "light"
     },
     "output_type": "display_data"
    }
   ],
   "source": [
    "name = 'caterpillar.png'\n",
    "# name = 'butterfly.jpg'\n",
    "img = cv.imread(name);\n",
    "edges = cv.Canny(img,50,200)\n",
    "print(img.min(),img.max())\n",
    "print(edges.min(),edges.max())\n",
    "plt.imshow(img);plt.show()\n",
    "plt.imshow(edges);plt.show()\n",
    "i2 = img.copy()"
   ]
  },
  {
   "cell_type": "code",
   "execution_count": 9,
   "metadata": {},
   "outputs": [
    {
     "name": "stdout",
     "output_type": "stream",
     "text": [
      "training with sinkhorn_large_reg\n",
      "lr 1e-06\n",
      "batch 0 loss tensor(1., grad_fn=<AddBackward0>)\n"
     ]
    },
    {
     "name": "stderr",
     "output_type": "stream",
     "text": [
      "c:\\users\\paul\\appdata\\local\\programs\\python\\python38\\lib\\site-packages\\torch\\functional.py:445: UserWarning: torch.meshgrid: in an upcoming release, it will be required to pass the indexing argument. (Triggered internally at  ..\\aten\\src\\ATen\\native\\TensorShape.cpp:2157.)\n",
      "  return _VF.meshgrid(tensors, **kwargs)  # type: ignore[attr-defined]\n"
     ]
    },
    {
     "data": {
      "image/png": "[encoded data removed]",
      "text/plain": [
       "<Figure size 432x288 with 3 Axes>"
      ]
     },
     "metadata": {
      "needs_background": "light"
     },
     "output_type": "display_data"
    },
    {
     "name": "stdout",
     "output_type": "stream",
     "text": [
      "time elapsed 0.6387557983398438 total time 0.6377584934234619\n",
      "batch number 0 out of 3000\n",
      "savetime 0.0\n"
     ]
    },
    {
     "ename": "KeyboardInterrupt",
     "evalue": "",
     "output_type": "error",
     "traceback": [
      "\u001b[1;31m---------------------------------------------------------------------------\u001b[0m",
      "\u001b[1;31mKeyboardInterrupt\u001b[0m                         Traceback (most recent call last)",
      "\u001b[1;32m~\\AppData\\Local\\Temp/ipykernel_28896/3973751135.py\u001b[0m in \u001b[0;36m<module>\u001b[1;34m\u001b[0m\n\u001b[0;32m     11\u001b[0m \u001b[0mmy_loss\u001b[0m \u001b[1;33m=\u001b[0m \u001b[1;34m'sinkhorn_large_reg'\u001b[0m\u001b[1;33m;\u001b[0m\u001b[1;33m\u001b[0m\u001b[1;33m\u001b[0m\u001b[0m\n\u001b[0;32m     12\u001b[0m \u001b[1;31m# %prun\u001b[0m\u001b[1;33m\u001b[0m\u001b[1;33m\u001b[0m\u001b[1;33m\u001b[0m\u001b[0m\n\u001b[1;32m---> 13\u001b[1;33m \u001b[0mmodel\u001b[0m\u001b[1;33m,\u001b[0m \u001b[0mlosses\u001b[0m\u001b[1;33m,\u001b[0m \u001b[0mseparate_losses\u001b[0m\u001b[1;33m,\u001b[0m \u001b[0mlrs\u001b[0m\u001b[1;33m,\u001b[0m \u001b[0mn_subs\u001b[0m \u001b[1;33m=\u001b[0m \u001b[0mlearn_trajectory\u001b[0m\u001b[1;33m(\u001b[0m\u001b[0mz_target\u001b[0m\u001b[1;33m,\u001b[0m \u001b[0mmy_loss\u001b[0m\u001b[1;33m=\u001b[0m\u001b[0mmy_loss\u001b[0m\u001b[1;33m,\u001b[0m\u001b[0mn_iters\u001b[0m \u001b[1;33m=\u001b[0m \u001b[1;36m3000\u001b[0m\u001b[1;33m,\u001b[0m\u001b[0mn_subsample\u001b[0m\u001b[1;33m=\u001b[0m\u001b[1;36m500\u001b[0m\u001b[1;33m,\u001b[0m \u001b[0mmodel\u001b[0m\u001b[1;33m=\u001b[0m\u001b[0mmodel\u001b[0m\u001b[1;33m,\u001b[0m \u001b[0mbmodel\u001b[0m\u001b[1;33m=\u001b[0m\u001b[0mbmodel\u001b[0m\u001b[1;33m,\u001b[0m \u001b[0msave\u001b[0m\u001b[1;33m=\u001b[0m\u001b[1;32mTrue\u001b[0m\u001b[1;33m)\u001b[0m\u001b[1;33m\u001b[0m\u001b[1;33m\u001b[0m\u001b[0m\n\u001b[0m",
      "\u001b[1;32mD:\\Documents\\wassflow\\LearnTraj.py\u001b[0m in \u001b[0;36mlearn_trajectory\u001b[1;34m(z_target_full, my_loss, n_iters, n_subsample, model, bmodel, save)\u001b[0m\n\u001b[0;32m    202\u001b[0m         \u001b[0mlrs\u001b[0m\u001b[1;33m.\u001b[0m\u001b[0mappend\u001b[0m\u001b[1;33m(\u001b[0m\u001b[0mcurrlr\u001b[0m\u001b[1;33m)\u001b[0m\u001b[1;33m\u001b[0m\u001b[1;33m\u001b[0m\u001b[0m\n\u001b[0;32m    203\u001b[0m \u001b[1;33m\u001b[0m\u001b[0m\n\u001b[1;32m--> 204\u001b[1;33m         \u001b[0mtotalloss\u001b[0m\u001b[1;33m.\u001b[0m\u001b[0mbackward\u001b[0m\u001b[1;33m(\u001b[0m\u001b[1;33m)\u001b[0m\u001b[1;33m\u001b[0m\u001b[1;33m\u001b[0m\u001b[0m\n\u001b[0m\u001b[0;32m    205\u001b[0m         \u001b[0moptimizer\u001b[0m\u001b[1;33m.\u001b[0m\u001b[0mstep\u001b[0m\u001b[1;33m(\u001b[0m\u001b[1;33m)\u001b[0m\u001b[1;33m\u001b[0m\u001b[1;33m\u001b[0m\u001b[0m\n\u001b[0;32m    206\u001b[0m \u001b[1;33m\u001b[0m\u001b[0m\n",
      "\u001b[1;32mc:\\users\\paul\\appdata\\local\\programs\\python\\python38\\lib\\site-packages\\torch\\_tensor.py\u001b[0m in \u001b[0;36mbackward\u001b[1;34m(self, gradient, retain_graph, create_graph, inputs)\u001b[0m\n\u001b[0;32m    305\u001b[0m                 \u001b[0mcreate_graph\u001b[0m\u001b[1;33m=\u001b[0m\u001b[0mcreate_graph\u001b[0m\u001b[1;33m,\u001b[0m\u001b[1;33m\u001b[0m\u001b[1;33m\u001b[0m\u001b[0m\n\u001b[0;32m    306\u001b[0m                 inputs=inputs)\n\u001b[1;32m--> 307\u001b[1;33m         \u001b[0mtorch\u001b[0m\u001b[1;33m.\u001b[0m\u001b[0mautograd\u001b[0m\u001b[1;33m.\u001b[0m\u001b[0mbackward\u001b[0m\u001b[1;33m(\u001b[0m\u001b[0mself\u001b[0m\u001b[1;33m,\u001b[0m \u001b[0mgradient\u001b[0m\u001b[1;33m,\u001b[0m \u001b[0mretain_graph\u001b[0m\u001b[1;33m,\u001b[0m \u001b[0mcreate_graph\u001b[0m\u001b[1;33m,\u001b[0m \u001b[0minputs\u001b[0m\u001b[1;33m=\u001b[0m\u001b[0minputs\u001b[0m\u001b[1;33m)\u001b[0m\u001b[1;33m\u001b[0m\u001b[1;33m\u001b[0m\u001b[0m\n\u001b[0m\u001b[0;32m    308\u001b[0m \u001b[1;33m\u001b[0m\u001b[0m\n\u001b[0;32m    309\u001b[0m     \u001b[1;32mdef\u001b[0m \u001b[0mregister_hook\u001b[0m\u001b[1;33m(\u001b[0m\u001b[0mself\u001b[0m\u001b[1;33m,\u001b[0m \u001b[0mhook\u001b[0m\u001b[1;33m)\u001b[0m\u001b[1;33m:\u001b[0m\u001b[1;33m\u001b[0m\u001b[1;33m\u001b[0m\u001b[0m\n",
      "\u001b[1;32mc:\\users\\paul\\appdata\\local\\programs\\python\\python38\\lib\\site-packages\\torch\\autograd\\__init__.py\u001b[0m in \u001b[0;36mbackward\u001b[1;34m(tensors, grad_tensors, retain_graph, create_graph, grad_variables, inputs)\u001b[0m\n\u001b[0;32m    152\u001b[0m         \u001b[0mretain_graph\u001b[0m \u001b[1;33m=\u001b[0m \u001b[0mcreate_graph\u001b[0m\u001b[1;33m\u001b[0m\u001b[1;33m\u001b[0m\u001b[0m\n\u001b[0;32m    153\u001b[0m \u001b[1;33m\u001b[0m\u001b[0m\n\u001b[1;32m--> 154\u001b[1;33m     Variable._execution_engine.run_backward(\n\u001b[0m\u001b[0;32m    155\u001b[0m         \u001b[0mtensors\u001b[0m\u001b[1;33m,\u001b[0m \u001b[0mgrad_tensors_\u001b[0m\u001b[1;33m,\u001b[0m \u001b[0mretain_graph\u001b[0m\u001b[1;33m,\u001b[0m \u001b[0mcreate_graph\u001b[0m\u001b[1;33m,\u001b[0m \u001b[0minputs\u001b[0m\u001b[1;33m,\u001b[0m\u001b[1;33m\u001b[0m\u001b[1;33m\u001b[0m\u001b[0m\n\u001b[0;32m    156\u001b[0m         allow_unreachable=True, accumulate_grad=True)  # allow_unreachable flag\n",
      "\u001b[1;31mKeyboardInterrupt\u001b[0m: "
     ]
    }
   ],
   "source": [
    "z_target = ImageDataset.normalize_samples(torch.stack((dat3, dat6)).to(device));\n",
    "# usesiren = False; first_omega_0=20; sigmac = 10;\n",
    "usesiren = True; first_omega_0=20; sigmac = 10;\n",
    "model = Siren(first_omega_0=first_omega_0, usesiren = usesiren, sigmac = sigmac).to(device); \n",
    "bmodel = Siren(first_omega_0=first_omega_0, usesiren = usesiren, sigmac = sigmac).to(device); \n",
    "# model.load_state('models/seq_state420_time_31.615391731262207.tar');\n",
    "# model.load_state('models/state310_time_22.49951934814453.tar');\n",
    "# model.load_state('models/state_start.tar');\n",
    "# for my_loss in ['sinkhorn_small_reg']:\n",
    "# my_loss = 'sinkhorn_small_reg';\n",
    "my_loss = 'sinkhorn_large_reg';\n",
    "# %prun \n",
    "model, losses, separate_losses, lrs, n_subs = learn_trajectory(z_target, my_loss=my_loss,n_iters = 3000,n_subsample=500, model=model, bmodel=bmodel, save=True)"
   ]
  },
  {
   "cell_type": "code",
   "execution_count": 53,
   "metadata": {},
   "outputs": [
    {
     "name": "stdout",
     "output_type": "stream",
     "text": [
      "Allocated: 0.0 GB  Reserved: 0.0 GB\n"
     ]
    },
    {
     "data": {
      "text/plain": [
       "<Figure size 432x288 with 0 Axes>"
      ]
     },
     "metadata": {},
     "output_type": "display_data"
    }
   ],
   "source": [
    "# st.gpu_usage()\n",
    "# z_target.shape\n",
    "# z_target = ImageDataset.normalize_samples(torch.stack((dat2, dat1)).to(device));\n",
    "\n",
    "# torch.cuda.empty_cache()\n",
    "# z_target = ImageDataset.normalize_samples(torch.stack((dat2, dat1)).to(device));\n",
    "# model = FfjordModel().to(device); model.load_state('models/state_start.tar'); # print(next(model.parameters()).is_cuda)\n",
    "# my_loss = 'sinkhorn_large_reg';\n",
    "myln = my_loss+'_0';\n",
    "st.save_trajectory(model,z_target[:,1:4000,:],myln, savedir='imgs', nsteps=20, memory=0.01, n=500,dpiv=400)\n",
    "st.gpu_usage()\n",
    "st.trajectory_to_video(myln, savedir='imgs', mp4_fn='transform.mp4')\n",
    "\n",
    "# integration_times = torch.linspace(0,z_target.shape[0]-1,2).to(device);\n",
    "# model(z_target[1,:,:], integration_times)\n"
   ]
  },
  {
   "cell_type": "code",
   "execution_count": 64,
   "metadata": {},
   "outputs": [
    {
     "data": {
      "image/png": "[encoded data removed]",
      "text/plain": [
       "<Figure size 432x288 with 1 Axes>"
      ]
     },
     "metadata": {
      "needs_background": "light"
     },
     "output_type": "display_data"
    }
   ],
   "source": [
    "start=15;end=20000;\n",
    "plt.plot(losses[start:end]); \n",
    "# plt.plot(separate_losses[0,start:end],'g'); \n",
    "# plt.plot(separate_losses[1,start:end],'r'); \n",
    "# plt.plot(separate_losses[2,start:end]); \n",
    "# plt.plot(separate_losses[3,start:end]*.01,'r'); \n",
    "# plt.plot(separate_losses[4,start:end]*10,'b'); \n",
    "# plt.plot(separate_losses[5,start:end]); \n",
    "# plt.plot(separate_losses[6,start:end]);\n",
    "plt.savefig(os.path.join('./', f\"viz_loss.jpg\"),dpi=400); "
   ]
  },
  {
   "cell_type": "code",
   "execution_count": 65,
   "metadata": {},
   "outputs": [
    {
     "data": {
      "image/png": "[encoded data removed]",
      "text/plain": [
       "<Figure size 432x288 with 2 Axes>"
      ]
     },
     "metadata": {
      "needs_background": "light"
     },
     "output_type": "display_data"
    }
   ],
   "source": [
    "(fig,(ax1,ax2))=plt.subplots(2,1)\n",
    "ax1.plot(n_subs[start:end],'r'); ax1.set_ylabel('n_sub')\n",
    "ax2.plot(lrs[start:end],'g'); ax2.set_ylabel('lr') \n",
    "plt.savefig(os.path.join('./', f\"viz_stat.jpg\"),dpi=400); "
   ]
  },
  {
   "cell_type": "code",
   "execution_count": null,
   "metadata": {},
   "outputs": [],
   "source": [
    "torch.cuda.empty_cache() \n",
    "st.gpu_usage()"
   ]
  },
  {
   "cell_type": "code",
   "execution_count": null,
   "metadata": {},
   "outputs": [],
   "source": [
    "# test what weights are given to what frequencies in the first layer\n",
    "for param in model.parameters():\n",
    "    print(type(param.data), param.size())\n",
    "    pdat = param.data;\n",
    "    break;    \n",
    "pmags = torch.norm(param.data,p=2,dim=0);\n",
    "freqs = model.time_deriv_func.imap.B;\n",
    "nf = freqs.shape[0];\n",
    "nd = (pmags.shape[0]-2*nf)\n",
    "\n",
    "fmags = torch.norm(freqs,p=2,dim=1);\n",
    "xyfreqs = torch.cat([fmags, fmags],dim=0);\n",
    "print(xyfreqs.size())\n",
    "\n",
    "plt.plot(xyfreqs.cpu().numpy(), pmags[0:(nf*2)].cpu().numpy(),'.')\n",
    "plt.plot(np.zeros(nd), pmags[(nf*2):].cpu().numpy(),'.')\n",
    "plt.savefig(os.path.join('./', f\"viz_freqs.jpg\"),dpi=400); \n",
    "# # freqs\n",
    "# # fmags"
   ]
  },
  {
   "cell_type": "code",
   "execution_count": null,
   "metadata": {},
   "outputs": [],
   "source": [
    "## visualize ending sinkhorn costs as gradient on point clouds\n",
    "# z_target = ImageDataset.normalize_samples(torch.stack((dat1,dat4)).to(device));\n",
    "T = z_target.shape[0];\n",
    "\n",
    "z_t = model(z_target[0,:,:], integration_times = torch.linspace(0,T-1,T).to(device),reverse=False);\n",
    "z_t_b = model(z_target[T-1,:,:], integration_times = torch.linspace(0,T-1,T).to(device),reverse=True);\n",
    "forward = z_t[T-1,:,:].cpu().detach().numpy();\n",
    "backward = z_t_b[T-1,:,:].cpu().detach().numpy();\n",
    "\n",
    "my_loss_f = SamplesLoss(\"sinkhorn\", p=2, blur=0.01);\n",
    "loss_f = my_loss_f(z_target[T-1,:,:], z_t[T-1,:,:])\n",
    "loss_b = my_loss_f(z_target[0,:,:], z_t_b[T-1,:,:])\n",
    "\n",
    "graddirs_f = torch.autograd.grad(loss_f, z_t)[0][T-1,:,:]\n",
    "graddirs_b = torch.autograd.grad(loss_b, z_t_b)[0][T-1,:,:]\n",
    "\n",
    "pos_f = z_t.cpu().detach().numpy()\n",
    "pos_b = z_t_b.cpu().detach().numpy()\n",
    "dirs_f = graddirs_f.cpu().detach().numpy()\n",
    "dirs_b = graddirs_b.cpu().detach().numpy()\n",
    "\n",
    "import os\n",
    "plt.axis('equal')\n",
    "plt.scatter(pos_b[0,:,0], pos_b[0,:,1], s=10, alpha=.5, linewidths=0, c='green', edgecolors='black')\n",
    "plt.scatter(forward[:,0], forward[:,1], s=10, alpha=.5, linewidths=0, c='red', edgecolors='black')\n",
    "plt.quiver(pos_f[T-1,:,0], pos_f[T-1,:,1], dirs_f[:,0], dirs_f[:,1],scale=.0001)\n",
    "plt.savefig(os.path.join('./', f\"viz_backward.jpg\"),dpi=400); plt.clf()\n",
    "\n",
    "plt.axis('equal')\n",
    "plt.scatter(pos_f[0,:,0], pos_f[0,:,1], s=10, alpha=.5, linewidths=0, c='green', edgecolors='black')\n",
    "plt.scatter(backward[:,0], backward[:,1], s=10, alpha=.5, linewidths=0, c='red', edgecolors='black')\n",
    "plt.quiver(pos_b[T-1,:,0], pos_b[T-1,:,1], dirs_b[:,0], dirs_b[:,1],scale=.0001)\n",
    "plt.savefig(os.path.join('./', f\"viz_forward.jpg\"),dpi=400); \n"
   ]
  },
  {
   "cell_type": "code",
   "execution_count": null,
   "metadata": {},
   "outputs": [],
   "source": [
    "\n",
    "\n",
    "\n",
    "\n",
    "\n",
    "\n",
    "\n",
    "\n",
    "\n",
    "\n",
    "\n",
    "\n",
    "\n",
    "\n",
    "\n",
    "\n",
    "\n",
    "\n",
    "\n",
    "\n",
    "\n"
   ]
  },
  {
   "cell_type": "code",
   "execution_count": null,
   "metadata": {
    "tags": []
   },
   "outputs": [],
   "source": [
    "#trying other shapes\n",
    "\n",
    "square = np.zeros([20,20])\n",
    "square[6:14,:8] = 1\n",
    "\n",
    "two_square = np.zeros([20,20])\n",
    "two_square[:5,14:] = 1\n",
    "two_square[15:,14:] = 1\n",
    "\n",
    "\n",
    "annulus = import_img('annulus.png')\n",
    "circle = 255-import_img('circle.jpeg')\n",
    "\n",
    "dset = ImageDataset(img=square)\n",
    "dset1 = ImageDataset(img=two_square)\n",
    "\n",
    "n = 500\n",
    "dat = dset.sample(n)\n",
    "dat1 = dset1.sample(n)\n",
    "plt.scatter(dat.detach().numpy()[:,0],dat.detach().numpy()[:,1],s=2.3, alpha=0.1, linewidths=5,c='green')\n",
    "plt.scatter(dat1.detach().numpy()[:,0],dat1.detach().numpy()[:,1],s=2.3, alpha=0.1, linewidths=5,c='red')\n",
    "plt.show() "
   ]
  },
  {
   "cell_type": "code",
   "execution_count": null,
   "metadata": {},
   "outputs": [],
   "source": [
    "# make half moon dataset\n",
    "import sklearn.datasets\n",
    "\n",
    "moons, labels = sklearn.datasets.make_moons(n,noise=.1) #generates two half moons\n",
    "mask = (labels == 0)\n",
    "one_moon = moons[mask,:] # only keep one moon\n",
    "\n",
    "def rot_mat(theta0):\n",
    "    #computes rotation matrix of angle theta\n",
    "    return np.array([[np.cos(theta0),-np.sin(theta0)],[np.sin(theta0),np.cos(theta0)]])\n",
    "\n",
    "theta0 = np.pi/2\n",
    "theta1 = np.pi\n",
    "\n",
    "rot0 = rot_mat(theta0)\n",
    "rot1 = rot_mat(theta1)\n",
    "\n",
    "# apply rotation to the moon\n",
    "one_moon_rot0 = np.dot(one_moon,rot0)\n",
    "one_moon_rot1 = np.dot(one_moon,rot1)"
   ]
  },
  {
   "cell_type": "code",
   "execution_count": null,
   "metadata": {},
   "outputs": [],
   "source": [
    "#visualize rotated moons\n",
    "\n",
    "plt.scatter(one_moon[:,0],one_moon[:,1], color='blue')\n",
    "plt.scatter(one_moon_rot0[:,0],one_moon_rot0[:,1], color='orange')\n",
    "plt.scatter(one_moon_rot1[:,0],one_moon_rot1[:,1], color='green')"
   ]
  },
  {
   "cell_type": "code",
   "execution_count": null,
   "metadata": {},
   "outputs": [],
   "source": [
    "# with three timesteps\n",
    "\n",
    "dat = torch.tensor(one_moon,dtype=torch.float)\n",
    "dat0 = torch.tensor(one_moon_rot0,dtype=torch.float)\n",
    "dat1 = torch.tensor(one_moon_rot1,dtype=torch.float)\n",
    "\n",
    "dat_tuple = (dat,dat0,dat1)\n",
    "z_target = torch.stack(dat_tuple).to(device)\n",
    "device = torch.device('cuda' if torch.cuda.is_available() else 'cpu')\n",
    "\n",
    "for my_loss in ['sinkhorn_large_reg','sinkhorn_small_reg','energy_dist']:\n",
    "    model = learn_trajectory(z_target, my_loss=my_loss,n_batch=500)\n",
    "    save_trajectory(model,z_target,my_loss, savedir='imgs', nsteps=101, memory=0.01, n=1000)\n",
    "    trajectory_to_video(my_loss)\n"
   ]
  },
  {
   "cell_type": "code",
   "execution_count": null,
   "metadata": {},
   "outputs": [],
   "source": [
    "# with two timesteps\n",
    "\n",
    "\n",
    "dat_tuple = (dat,dat0)\n",
    "z_target = torch.stack(dat_tuple).to(device)\n",
    "device = torch.device('cuda' if torch.cuda.is_available() else 'cpu')\n",
    "\n",
    "for my_loss in ['sinkhorn_large_reg','sinkhorn_small_reg','energy_dist']:\n",
    "    model = learn_trajectory(z_target, my_loss=my_loss,n_batch=500)\n",
    "    save_trajectory(model,z_target,my_loss, savedir='imgs', nsteps=101, memory=0.01, n=1000)\n",
    "    trajectory_to_video(my_loss)\n"
   ]
  },
  {
   "cell_type": "code",
   "execution_count": null,
   "metadata": {},
   "outputs": [],
   "source": [
    "losses"
   ]
  },
  {
   "cell_type": "code",
   "execution_count": null,
   "metadata": {},
   "outputs": [],
   "source": []
  }
 ],
 "metadata": {
  "kernelspec": {
   "display_name": "Python 3 (ipykernel)",
   "language": "python",
   "name": "python3"
  },
  "language_info": {
   "codemirror_mode": {
    "name": "ipython",
    "version": 3
   },
   "file_extension": ".py",
   "mimetype": "text/x-python",
   "name": "python",
   "nbconvert_exporter": "python",
   "pygments_lexer": "ipython3",
   "version": "3.8.7"
  }
 },
 "nbformat": 4,
 "nbformat_minor": 4
}

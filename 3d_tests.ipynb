{
 "cells": [
  {
   "cell_type": "code",
   "execution_count": 13,
   "id": "a4b803d9-54c8-49b0-9c77-007443ccae6b",
   "metadata": {},
   "outputs": [],
   "source": [
    "from IPython.display import clear_output\n",
    "import pdb, time, math, numpy as np, gc, importlib, torch, os, cv2 as cv, ODEModel, matplotlib\n",
    "import ot\n",
    "import matplotlib.pyplot as plt\n",
    "from torch import Tensor, nn\n",
    "from torch.nn import functional as F \n",
    "from torch.autograd import Variable\n",
    "from torch.distributions import MultivariateNormal\n",
    "from torchdiffeq import odeint_adjoint as odeint \n",
    "from geomloss import SamplesLoss\n",
    "device = torch.device('cuda' if torch.cuda.is_available() else 'cpu')\n",
    "import Utils, LearnVelTraj\n",
    "importlib.reload(Utils)\n",
    "from Utils import InputMapping, BoundingBox, ImageDataset, SaveTrajectory, ezshow, SaveTrajectory as st, MiscTransforms, MeshDataset\n",
    "importlib.reload(ODEModel)\n",
    "from ODEModel import velocMLP, FfjordModel\n",
    "importlib.reload(LearnVelTraj);\n",
    "from LearnVelTraj import learn_vel_trajectory"
   ]
  },
  {
   "cell_type": "code",
   "execution_count": 17,
   "id": "8ee7c9f6-976d-46db-8347-ecad5b5ae477",
   "metadata": {},
   "outputs": [
    {
     "name": "stdout",
     "output_type": "stream",
     "text": [
      "scenes/sphere_cube/cube.obj\n",
      "scenes/sphere_cube/sphere.obj\n"
     ]
    },
    {
     "name": "stderr",
     "output_type": "stream",
     "text": [
      "Mesh is non-watertight for contained point query!\n"
     ]
    },
    {
     "name": "stdout",
     "output_type": "stream",
     "text": [
      "scenes/ring_torus_ring_turn/torus.obj\n"
     ]
    },
    {
     "name": "stderr",
     "output_type": "stream",
     "text": [
      "Mesh is non-watertight for contained point query!\n"
     ]
    },
    {
     "name": "stdout",
     "output_type": "stream",
     "text": [
      "scenes/ring_torus_ring_turn/ring1.obj\n"
     ]
    },
    {
     "name": "stderr",
     "output_type": "stream",
     "text": [
      "Mesh is non-watertight for contained point query!\n"
     ]
    },
    {
     "name": "stdout",
     "output_type": "stream",
     "text": [
      "scenes/ring_torus_ring_turn/ring2.obj\n",
      "scenes/cow_lion/lion.obj\n"
     ]
    },
    {
     "name": "stderr",
     "output_type": "stream",
     "text": [
      "Mesh is non-watertight for contained point query!\n",
      "Mesh is non-watertight for contained point query!\n"
     ]
    },
    {
     "name": "stdout",
     "output_type": "stream",
     "text": [
      "scenes/cow_lion/cow.obj\n",
      "scenes/torus_ring/torus.obj\n",
      "scenes/torus_ring/fancy_ring.obj\n"
     ]
    },
    {
     "name": "stderr",
     "output_type": "stream",
     "text": [
      "Mesh is non-watertight for contained point query!\n"
     ]
    },
    {
     "name": "stdout",
     "output_type": "stream",
     "text": [
      "scenes/hand_cat/hand.obj\n"
     ]
    },
    {
     "name": "stderr",
     "output_type": "stream",
     "text": [
      "Mesh is non-watertight for contained point query!\n"
     ]
    },
    {
     "name": "stdout",
     "output_type": "stream",
     "text": [
      "scenes/hand_cat/cat.obj\n"
     ]
    }
   ],
   "source": [
    "MiscTransforms.fill_scene_caches(\"scenes\", n_inner = 10000, n_surface = 10000)"
   ]
  },
  {
   "cell_type": "code",
   "execution_count": 11,
   "id": "41ce76a3-777b-4cd5-88e7-cf302113bf8c",
   "metadata": {},
   "outputs": [
    {
     "name": "stderr",
     "output_type": "stream",
     "text": [
      "Mesh is non-watertight for contained point query!\n",
      "Mesh is non-watertight for contained point query!\n",
      "Mesh is non-watertight for contained point query!\n"
     ]
    },
    {
     "name": "stdout",
     "output_type": "stream",
     "text": [
      "scenes/sphere_cube/cube.obj\n",
      "scenes/sphere_cube/sphere.obj\n",
      "scenes/ring_torus_ring_turn/torus.obj\n",
      "scenes/ring_torus_ring_turn/ring1.obj\n",
      "scenes/ring_torus_ring_turn/ring2.obj\n",
      "scenes/cow_lion/lion.obj\n"
     ]
    },
    {
     "name": "stderr",
     "output_type": "stream",
     "text": [
      "Mesh is non-watertight for contained point query!\n",
      "Mesh is non-watertight for contained point query!\n",
      "Mesh is non-watertight for contained point query!\n",
      "Mesh is non-watertight for contained point query!\n"
     ]
    },
    {
     "name": "stdout",
     "output_type": "stream",
     "text": [
      "scenes/cow_lion/cow.obj\n",
      "scenes/torus_ring/torus.obj\n",
      "scenes/torus_ring/fancy_ring.obj\n",
      "scenes/hand_cat/hand.obj\n",
      "scenes/hand_cat/cat.obj\n"
     ]
    }
   ],
   "source": [
    "# cow = MeshDataset(\"scenes/cow_lion/cow.obj\")\n",
    "# lion = MeshDataset(\"scenes/cow_lion/lion.obj\")\n",
    "# hand = MeshDataset(\"scenes/cow_lion/cow.obj\")\n",
    "# cat = MeshDataset(\"scenes/cow_lion/lion.obj\")"
   ]
  },
  {
   "cell_type": "code",
   "execution_count": 29,
   "id": "f56702de-08e7-41c7-8c07-9172955a3d95",
   "metadata": {},
   "outputs": [
    {
     "name": "stderr",
     "output_type": "stream",
     "text": [
      "Mesh is non-watertight for contained point query!\n",
      "Mesh is non-watertight for contained point query!\n"
     ]
    }
   ],
   "source": [
    "cow_inner, cow_surface = cow.sample(n_inner=7000, n_surface=3000);\n",
    "lion_inner, lion_surface = lion.sample(n_inner=7000, n_surface=3000);"
   ]
  }
 ],
 "metadata": {
  "kernelspec": {
   "display_name": "Python 3",
   "language": "python",
   "name": "python3"
  },
  "language_info": {
   "codemirror_mode": {
    "name": "ipython",
    "version": 3
   },
   "file_extension": ".py",
   "mimetype": "text/x-python",
   "name": "python",
   "nbconvert_exporter": "python",
   "pygments_lexer": "ipython3",
   "version": "3.8.12"
  }
 },
 "nbformat": 4,
 "nbformat_minor": 5
}

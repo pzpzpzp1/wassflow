{
 "cells": [
  {
   "cell_type": "code",
   "execution_count": 70,
   "id": "a4b803d9-54c8-49b0-9c77-007443ccae6b",
   "metadata": {},
   "outputs": [
    {
     "name": "stderr",
     "output_type": "stream",
     "text": [
      "Mesh is non-watertight for contained point query!\n"
     ]
    },
    {
     "name": "stdout",
     "output_type": "stream",
     "text": [
      "1.545257568359375\n"
     ]
    }
   ],
   "source": [
    "from IPython.display import clear_output\n",
    "import pdb, time, math, numpy as np, gc, importlib, torch, os, cv2 as cv, ODEModel, matplotlib\n",
    "import ot\n",
    "import matplotlib.pyplot as plt\n",
    "from torch import Tensor, nn\n",
    "from torch.nn import functional as F \n",
    "from torch.autograd import Variable\n",
    "from torch.distributions import MultivariateNormal\n",
    "from torchdiffeq import odeint_adjoint as odeint \n",
    "from geomloss import SamplesLoss\n",
    "device = torch.device('cuda' if torch.cuda.is_available() else 'cpu')\n",
    "import Utils, LearnVelTraj\n",
    "importlib.reload(Utils)\n",
    "from Utils import InputMapping, BoundingBox, ImageDataset, SaveTrajectory, ezshow, SaveTrajectory as st, MiscTransforms, MeshDataset\n",
    "importlib.reload(ODEModel)\n",
    "from ODEModel import velocMLP, FfjordModel\n",
    "importlib.reload(LearnVelTraj);\n",
    "from LearnVelTraj import learn_vel_trajectory\n",
    "\n",
    "cow = MeshDataset(\"meshes/scenes/cowtolion/cow.obj\");\n",
    "cow_inner, cow_surface = cow.sample(n_inner=100, n_surface=350);\n"
   ]
  },
  {
   "cell_type": "code",
   "execution_count": 21,
   "id": "41ce76a3-777b-4cd5-88e7-cf302113bf8c",
   "metadata": {},
   "outputs": [],
   "source": [
    "cow = MeshDataset(\"meshes/scenes/cowtolion/cow.obj\");\n",
    "# lion = MeshDataset(\"meshes/scenes/cowtolion/lion.obj\");"
   ]
  },
  {
   "cell_type": "code",
   "execution_count": 29,
   "id": "f56702de-08e7-41c7-8c07-9172955a3d95",
   "metadata": {},
   "outputs": [
    {
     "name": "stderr",
     "output_type": "stream",
     "text": [
      "Mesh is non-watertight for contained point query!\n",
      "Mesh is non-watertight for contained point query!\n"
     ]
    }
   ],
   "source": [
    "cow_inner, cow_surface = cow.sample(n_inner=700, n_surface=300);\n",
    "# lion_inner, lion_surface = lion.sample(n_inner=700, n_surface=300);"
   ]
  }
 ],
 "metadata": {
  "kernelspec": {
   "display_name": "Python 3",
   "language": "python",
   "name": "python3"
  },
  "language_info": {
   "codemirror_mode": {
    "name": "ipython",
    "version": 3
   },
   "file_extension": ".py",
   "mimetype": "text/x-python",
   "name": "python",
   "nbconvert_exporter": "python",
   "pygments_lexer": "ipython3",
   "version": "3.8.12"
  }
 },
 "nbformat": 4,
 "nbformat_minor": 5
}

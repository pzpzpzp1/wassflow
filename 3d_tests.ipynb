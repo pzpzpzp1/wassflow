{
 "cells": [
  {
   "cell_type": "code",
   "execution_count": 218,
   "id": "a4b803d9-54c8-49b0-9c77-007443ccae6b",
   "metadata": {},
   "outputs": [],
   "source": [
    "%matplotlib notebook\n",
    "from IPython.display import clear_output\n",
    "import pdb, time, math, numpy as np, gc, importlib, torch, os, cv2 as cv, ODEModel, matplotlib\n",
    "import ot\n",
    "import matplotlib.pyplot as plt\n",
    "from torch import Tensor, nn\n",
    "from torch.nn import functional as F \n",
    "from torch.autograd import Variable\n",
    "from torch.distributions import MultivariateNormal\n",
    "from torchdiffeq import odeint_adjoint as odeint \n",
    "from geomloss import SamplesLoss\n",
    "device = torch.device('cuda' if torch.cuda.is_available() else 'cpu')\n",
    "import Utils, LearnVelTraj\n",
    "importlib.reload(Utils)\n",
    "from Utils import InputMapping, BoundingBox, ImageDataset, SaveTrajectory, ezshow, SaveTrajectory as st, MiscTransforms, MeshDataset, ezshow3D\n",
    "importlib.reload(ODEModel)\n",
    "from ODEModel import velocMLP, FfjordModel\n",
    "importlib.reload(LearnVelTraj);\n",
    "from LearnVelTraj import learn_vel_trajectory\n",
    "from mpl_toolkits.mplot3d import axes3d   \n",
    "import pandas as pd\n",
    "import plotly\n",
    "import plotly.express as px\n",
    "from plotly import tools\n",
    "from plotly.graph_objs import * #all the types of plots that we will plot here\n",
    "# plotly.offline.init_notebook_mode()"
   ]
  },
  {
   "cell_type": "code",
   "execution_count": 219,
   "id": "0177e637-8207-4898-9a15-e1ec7193a987",
   "metadata": {},
   "outputs": [
    {
     "name": "stderr",
     "output_type": "stream",
     "text": [
      "Mesh is non-watertight for contained point query!\n",
      "Mesh is non-watertight for contained point query!\n",
      "  0%|          | 0/1000 [00:00<?, ?it/s]\n"
     ]
    },
    {
     "ename": "TypeError",
     "evalue": "expected Tensor as element 1 in argument 0, but got numpy.ndarray",
     "output_type": "error",
     "traceback": [
      "\u001b[0;31m---------------------------------------------------------------------------\u001b[0m",
      "\u001b[0;31mTypeError\u001b[0m                                 Traceback (most recent call last)",
      "\u001b[0;32m<ipython-input-219-83c49cf31c00>\u001b[0m in \u001b[0;36m<module>\u001b[0;34m\u001b[0m\n\u001b[1;32m     21\u001b[0m \u001b[0mmodel\u001b[0m \u001b[0;34m=\u001b[0m \u001b[0mFfjordModel\u001b[0m\u001b[0;34m(\u001b[0m\u001b[0msigmac\u001b[0m \u001b[0;34m=\u001b[0m \u001b[0;36m4\u001b[0m\u001b[0;34m,\u001b[0m \u001b[0mn_freq\u001b[0m \u001b[0;34m=\u001b[0m \u001b[0;36m100\u001b[0m\u001b[0;34m,\u001b[0m \u001b[0mhidden_layers\u001b[0m\u001b[0;34m=\u001b[0m\u001b[0;36m3\u001b[0m\u001b[0;34m,\u001b[0m \u001b[0mhidden_features\u001b[0m\u001b[0;34m=\u001b[0m\u001b[0;36m512\u001b[0m\u001b[0;34m,\u001b[0m \u001b[0mtdiv\u001b[0m \u001b[0;34m=\u001b[0m \u001b[0;36m2\u001b[0m\u001b[0;34m,\u001b[0m \u001b[0min_features\u001b[0m\u001b[0;34m=\u001b[0m\u001b[0;36m4\u001b[0m\u001b[0;34m,\u001b[0m \u001b[0mout_features\u001b[0m\u001b[0;34m=\u001b[0m\u001b[0;36m3\u001b[0m\u001b[0;34m,\u001b[0m \u001b[0mincrementalMask\u001b[0m \u001b[0;34m=\u001b[0m \u001b[0;32mTrue\u001b[0m\u001b[0;34m)\u001b[0m\u001b[0;34m.\u001b[0m\u001b[0mto\u001b[0m\u001b[0;34m(\u001b[0m\u001b[0mdevice\u001b[0m\u001b[0;34m)\u001b[0m\u001b[0;34m\u001b[0m\u001b[0;34m\u001b[0m\u001b[0m\n\u001b[1;32m     22\u001b[0m \u001b[0moutfolder\u001b[0m \u001b[0;34m=\u001b[0m \u001b[0;34m\"results/experiment_cow_to_lion/\"\u001b[0m\u001b[0;34m\u001b[0m\u001b[0;34m\u001b[0m\u001b[0m\n\u001b[0;32m---> 23\u001b[0;31m \u001b[0mmodel\u001b[0m\u001b[0;34m,\u001b[0m \u001b[0mlosses\u001b[0m\u001b[0;34m,\u001b[0m \u001b[0mseparate_losses\u001b[0m\u001b[0;34m,\u001b[0m \u001b[0mlrs\u001b[0m\u001b[0;34m,\u001b[0m \u001b[0mn_subs\u001b[0m\u001b[0;34m,\u001b[0m \u001b[0mseparate_times\u001b[0m \u001b[0;34m=\u001b[0m \u001b[0mlearn_vel_trajectory\u001b[0m\u001b[0;34m(\u001b[0m\u001b[0mkeyframes\u001b[0m\u001b[0;34m,\u001b[0m \u001b[0mn_iters\u001b[0m \u001b[0;34m=\u001b[0m \u001b[0;36m1000\u001b[0m\u001b[0;34m,\u001b[0m \u001b[0mn_subsample\u001b[0m\u001b[0;34m=\u001b[0m\u001b[0;36m1000\u001b[0m\u001b[0;34m,\u001b[0m \u001b[0mmodel\u001b[0m\u001b[0;34m=\u001b[0m\u001b[0mmodel\u001b[0m\u001b[0;34m,\u001b[0m \u001b[0moutname\u001b[0m\u001b[0;34m=\u001b[0m\u001b[0moutfolder\u001b[0m\u001b[0;34m,\u001b[0m \u001b[0msqrtfitloss\u001b[0m\u001b[0;34m=\u001b[0m\u001b[0;32mTrue\u001b[0m\u001b[0;34m,\u001b[0m \u001b[0mdetachTZM\u001b[0m \u001b[0;34m=\u001b[0m \u001b[0;32mTrue\u001b[0m\u001b[0;34m,\u001b[0m \u001b[0mlr\u001b[0m \u001b[0;34m=\u001b[0m \u001b[0;36m2e-4\u001b[0m\u001b[0;34m)\u001b[0m\u001b[0;34m\u001b[0m\u001b[0;34m\u001b[0m\u001b[0m\n\u001b[0m",
      "\u001b[0;32m/mnt/pzpzpzp1/wassflow/LearnVelTraj.py\u001b[0m in \u001b[0;36mlearn_vel_trajectory\u001b[0;34m(z_target_full, n_iters, n_subsample, model, outname, visualize, sqrtfitloss, detachTZM, lr, clipnorm)\u001b[0m\n\u001b[1;32m    155\u001b[0m \u001b[0;34m\u001b[0m\u001b[0m\n\u001b[1;32m    156\u001b[0m         \u001b[0;31m# UNIFORM SPACETIME VELOCITY REGULARIZERS\u001b[0m\u001b[0;34m\u001b[0m\u001b[0;34m\u001b[0m\u001b[0;34m\u001b[0m\u001b[0m\n\u001b[0;32m--> 157\u001b[0;31m         \u001b[0mtzu\u001b[0m \u001b[0;34m=\u001b[0m \u001b[0mBB\u001b[0m\u001b[0;34m.\u001b[0m\u001b[0msamplerandom\u001b[0m\u001b[0;34m(\u001b[0m\u001b[0mN\u001b[0m\u001b[0;34m=\u001b[0m\u001b[0;36m1500\u001b[0m\u001b[0;34m,\u001b[0m \u001b[0mbbscale\u001b[0m\u001b[0;34m=\u001b[0m\u001b[0;36m1.1\u001b[0m\u001b[0;34m)\u001b[0m\u001b[0;34m\u001b[0m\u001b[0;34m\u001b[0m\u001b[0m\n\u001b[0m\u001b[1;32m    158\u001b[0m         \u001b[0mz_dots_u\u001b[0m\u001b[0;34m,\u001b[0m \u001b[0mz_jacs_u\u001b[0m\u001b[0;34m,\u001b[0m \u001b[0mz_accel_u\u001b[0m\u001b[0;34m,\u001b[0m\u001b[0mz_jerk_u\u001b[0m \u001b[0;34m=\u001b[0m \u001b[0mmodel\u001b[0m\u001b[0;34m.\u001b[0m\u001b[0mvelfunc\u001b[0m\u001b[0;34m.\u001b[0m\u001b[0mgetGrads\u001b[0m\u001b[0;34m(\u001b[0m\u001b[0mtzu\u001b[0m\u001b[0;34m,\u001b[0m \u001b[0mgetJerk\u001b[0m \u001b[0;34m=\u001b[0m \u001b[0;32mFalse\u001b[0m\u001b[0;34m)\u001b[0m\u001b[0;34m\u001b[0m\u001b[0;34m\u001b[0m\u001b[0m\n\u001b[1;32m    159\u001b[0m         \u001b[0mn_points_u\u001b[0m \u001b[0;34m=\u001b[0m \u001b[0mz_dots_u\u001b[0m\u001b[0;34m.\u001b[0m\u001b[0mshape\u001b[0m\u001b[0;34m[\u001b[0m\u001b[0;36m0\u001b[0m\u001b[0;34m]\u001b[0m\u001b[0;34m\u001b[0m\u001b[0;34m\u001b[0m\u001b[0m\n",
      "\u001b[0;32m/mnt/pzpzpzp1/wassflow/Utils.py\u001b[0m in \u001b[0;36msamplerandom\u001b[0;34m(self, N, bbscale)\u001b[0m\n\u001b[1;32m    287\u001b[0m \u001b[0;34m\u001b[0m\u001b[0m\n\u001b[1;32m    288\u001b[0m         \u001b[0mz_sample\u001b[0m \u001b[0;34m=\u001b[0m \u001b[0mtorch\u001b[0m\u001b[0;34m.\u001b[0m\u001b[0mrand\u001b[0m\u001b[0;34m(\u001b[0m\u001b[0mN\u001b[0m\u001b[0;34m,\u001b[0m \u001b[0mself\u001b[0m\u001b[0;34m.\u001b[0m\u001b[0mdim\u001b[0m \u001b[0;34m+\u001b[0m \u001b[0;36m1\u001b[0m\u001b[0;34m)\u001b[0m\u001b[0;34m.\u001b[0m\u001b[0mto\u001b[0m\u001b[0;34m(\u001b[0m\u001b[0mdevice\u001b[0m\u001b[0;34m)\u001b[0m\u001b[0;34m-\u001b[0m\u001b[0;36m0.5\u001b[0m\u001b[0;34m\u001b[0m\u001b[0;34m\u001b[0m\u001b[0m\n\u001b[0;32m--> 289\u001b[0;31m         \u001b[0mdeltx\u001b[0m \u001b[0;34m=\u001b[0m \u001b[0mtorch\u001b[0m\u001b[0;34m.\u001b[0m\u001b[0mcat\u001b[0m\u001b[0;34m(\u001b[0m\u001b[0;34m(\u001b[0m\u001b[0mdT\u001b[0m\u001b[0;34m,\u001b[0m \u001b[0meTR\u001b[0m\u001b[0;34m-\u001b[0m\u001b[0meLL\u001b[0m\u001b[0;34m)\u001b[0m\u001b[0;34m)\u001b[0m\u001b[0;34m\u001b[0m\u001b[0;34m\u001b[0m\u001b[0m\n\u001b[0m\u001b[1;32m    290\u001b[0m         \u001b[0mz_sample\u001b[0m \u001b[0;34m=\u001b[0m \u001b[0mdeltx\u001b[0m\u001b[0;34m*\u001b[0m\u001b[0mz_sample\u001b[0m \u001b[0;34m+\u001b[0m \u001b[0mtorch\u001b[0m\u001b[0;34m.\u001b[0m\u001b[0mcat\u001b[0m\u001b[0;34m(\u001b[0m\u001b[0;34m(\u001b[0m\u001b[0mTC\u001b[0m\u001b[0;34m,\u001b[0m \u001b[0mself\u001b[0m\u001b[0;34m.\u001b[0m\u001b[0mC\u001b[0m\u001b[0;34m)\u001b[0m\u001b[0;34m)\u001b[0m\u001b[0;34m\u001b[0m\u001b[0;34m\u001b[0m\u001b[0m\n\u001b[1;32m    291\u001b[0m \u001b[0;34m\u001b[0m\u001b[0m\n",
      "\u001b[0;31mTypeError\u001b[0m: expected Tensor as element 1 in argument 0, but got numpy.ndarray"
     ]
    }
   ],
   "source": [
    "import Utils, LearnVelTraj, ODEModel\n",
    "importlib.reload(Utils); importlib.reload(ODEModel); importlib.reload(LearnVelTraj);\n",
    "from ODEModel import velocMLP, FfjordModel; from LearnVelTraj import learn_vel_trajectory\n",
    "\n",
    "# Load Scene 1: cow to lion\n",
    "cow = MeshDataset(\"scenes/cow_lion/cow.obj\")\n",
    "lion = MeshDataset(\"scenes/cow_lion/lion.obj\")\n",
    "inner_percentage = .6\n",
    "n_total = 3000\n",
    "n_inner = round(n_total*inner_percentage)\n",
    "n_surface = n_total - n_inner\n",
    "cow_pts = cow.sample(n_inner=n_inner, n_surface=n_surface, combined = True);\n",
    "lion_pts = lion.sample(n_inner=n_inner, n_surface=n_surface, combined = True);\n",
    "fig, cow_trace = ezshow3D(cow_pts, col='rgb(0,0,210)', alpha=.2, size=3)\n",
    "fig, lion_trace = ezshow3D(lion_pts, col='rgb(0,0,210)', alpha=.2, size=3, fig=fig)\n",
    "# fig.show()\n",
    "\n",
    "keyframes, __ = ImageDataset.normalize_samples(torch.tensor(np.stack((cow_pts, lion_pts))).to(device).float())\n",
    "\n",
    "# infer trajectory\n",
    "model = FfjordModel(sigmac = 4, n_freq = 100, hidden_layers=3, hidden_features=512, tdiv = 2, in_features=4, out_features=3, incrementalMask = True).to(device)\n",
    "outfolder = \"results/experiment_cow_to_lion/\"\n",
    "model, losses, separate_losses, lrs, n_subs, separate_times = learn_vel_trajectory(keyframes, n_iters = 1000, n_subsample=1000, model=model, outname=outfolder, sqrtfitloss=True, detachTZM = True, lr = 2e-4)"
   ]
  },
  {
   "cell_type": "code",
   "execution_count": 213,
   "id": "e0f72da9-90a8-4a67-8d55-0eefd55bffed",
   "metadata": {},
   "outputs": [],
   "source": [
    "import Utils, LearnVelTraj, ODEModel\n",
    "importlib.reload(Utils); importlib.reload(ODEModel); importlib.reload(LearnVelTraj);\n",
    "from ODEModel import velocMLP, FfjordModel; from LearnVelTraj import learn_vel_trajectory\n",
    "keyframes, __ = ImageDataset.normalize_samples(torch.tensor(np.stack((cow_pts, lion_pts))).to(device).float())\n",
    "\n",
    "model = FfjordModel(sigmac = 4, n_freq = 100, hidden_layers=3, hidden_features=512, tdiv = 2, in_features=4, out_features=3, incrementalMask = True).to(device)\n",
    "outfolder = \"results/experiment_3d_debug/\"\n",
    "model.load_state(outfolder+'models/state_final.tar')\n",
    "st.save_trajectory(model, keyframes, savedir=outfolder,\n",
    "                       savename='final', nsteps=10, dpiv=400, n=1000, writeTracers=True)"
   ]
  }
 ],
 "metadata": {
  "kernelspec": {
   "display_name": "Python 3",
   "language": "python",
   "name": "python3"
  },
  "language_info": {
   "codemirror_mode": {
    "name": "ipython",
    "version": 3
   },
   "file_extension": ".py",
   "mimetype": "text/x-python",
   "name": "python",
   "nbconvert_exporter": "python",
   "pygments_lexer": "ipython3",
   "version": "3.8.12"
  }
 },
 "nbformat": 4,
 "nbformat_minor": 5
}
